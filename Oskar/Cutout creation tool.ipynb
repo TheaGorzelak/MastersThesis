{
 "cells": [
  {
   "cell_type": "markdown",
   "id": "87ef2596",
   "metadata": {},
   "source": [
    "# Creation of cutouts"
   ]
  },
  {
   "cell_type": "code",
   "execution_count": 1,
   "id": "7543753d",
   "metadata": {},
   "outputs": [],
   "source": [
    "# Importing packages\n",
    "import atlite\n",
    "import xarray as xr\n",
    "import pandas as pd\n",
    "import scipy.sparse as sp\n",
    "import math  \n",
    "import numpy as np\n",
    "from matplotlib import dates\n",
    "import datetime\n",
    "import pgeocode\n",
    "from collections import OrderedDict\n",
    "import matplotlib.pyplot as plt\n",
    "from matplotlib.colors import LinearSegmentedColormap\n",
    "from matplotlib.gridspec import GridSpec\n",
    "import seaborn as sns\n",
    "%matplotlib inline\n",
    "import seaborn as sns\n",
    "#sns.set_style(\"whitegrid\")\n",
    "import requests\n",
    "import os\n",
    "import zipfile\n",
    "\n",
    "import atlite\n",
    "import logging\n",
    "logging.basicConfig(level=logging.INFO)\n",
    "\n",
    "import cartopy.crs as ccrs\n",
    "from cartopy.crs import PlateCarree as plate\n",
    "import cartopy.io.shapereader as shpreader\n",
    "import geopandas as gpd\n",
    "# from matplotlib.gridspec import GridSpec\n",
    "from atlite.gis import shape_availability, ExclusionContainer\n",
    "# from rasterio.plot import show\n",
    "# import glob\n",
    "from countrygroups import EUROPEAN_UNION"
   ]
  },
  {
   "cell_type": "code",
   "execution_count": 2,
   "id": "ed0b4588",
   "metadata": {},
   "outputs": [],
   "source": [
    "# Adding non-EU countries to the list of countries\n",
    "\n",
    "#others = ([\"Switzerland\",\"Czech Republic\", \"Ukraine\",\"Moldova\", \"Serbia\",\"Albania\", \"United Kingdom\", \n",
    "#           \"Montenegro\",\"Bosnia and Herzegovina\",\"North Macedonia\",\"Kosovo\",\"Norway\"])\n",
    "others = ([\"Switzerland\",\"Czech Republic\", \"Serbia\",\"Albania\", \"United Kingdom\", \n",
    "           \"Montenegro\",\"Bosnia and Herzegovina\",\"North Macedonia\",\"Kosovo\",\"Norway\"])\n",
    "europe_list = EUROPEAN_UNION.names + others\n",
    "europe_list.remove(\"Czechia\")\n",
    "europe_list.sort()"
   ]
  },
  {
   "cell_type": "code",
   "execution_count": 5,
   "id": "b7846f10",
   "metadata": {},
   "outputs": [
    {
     "name": "stderr",
     "output_type": "stream",
     "text": [
      "c:\\Users\\c10si\\anaconda3\\envs\\Pre-project_environment_2_20230\\lib\\site-packages\\pyproj\\crs\\crs.py:141: FutureWarning: '+init=<authority>:<code>' syntax is deprecated. '<authority>:<code>' is the preferred initialization method. When making the change, be mindful of axis order changes: https://pyproj4.github.io/pyproj/stable/gotchas.html#axis-order-changes-in-proj-6\n",
      "  in_crs_string = _prepare_from_proj_string(in_crs_string)\n"
     ]
    }
   ],
   "source": [
    "# Defining shape of European countries\n",
    "\n",
    "shpfilename = shpreader.natural_earth(\n",
    "    resolution=\"10m\", category=\"cultural\", name=\"admin_0_countries\"\n",
    ")\n",
    "reader = shpreader.Reader(shpfilename)\n",
    "Europe = gpd.GeoSeries(\n",
    "    {r.attributes[\"NAME_EN\"]: r.geometry for r in reader.records()},\n",
    "    crs={\"init\": \"epsg:4326\"},\n",
    ").reindex(europe_list)\n",
    "\n",
    "# Removing extra territories (islands in the Atlantic, etc.)\n",
    "mask = (-11, 30, 50, 74)\n",
    "Europe = Europe.clip(mask)\n",
    "# Europe.plot(figsize=(8,8),aspect='equal').set_frame_on(False)\n",
    "# plt.grid()\n",
    "# plt.title('Region analyzed by cutout');\n",
    "\n",
    "# Creating boundary for cutouts\n",
    "bounds = Europe.unary_union.buffer(1).bounds"
   ]
  },
  {
   "cell_type": "code",
   "execution_count": 13,
   "id": "93f9cf5d",
   "metadata": {},
   "outputs": [
    {
     "name": "stderr",
     "output_type": "stream",
     "text": [
      "                                                    \r"
     ]
    },
    {
     "name": "stdout",
     "output_type": "stream",
     "text": [
      "[########################################] | 100% Completed | 51.42 s\n"
     ]
    },
    {
     "data": {
      "text/plain": [
       "<Cutout \"Europe_era5_19\">\n",
       " x = -11.25 ⟷ 35.00, dx = 0.25\n",
       " y = 33.75 ⟷ 72.00, dy = 0.25\n",
       " time = 2019-01-01 ⟷ 2019-12-31, dt = H\n",
       " module = era5\n",
       " prepared_features = ['height', 'wind', 'influx', 'temperature', 'runoff']"
      ]
     },
     "execution_count": 13,
     "metadata": {},
     "output_type": "execute_result"
    }
   ],
   "source": [
    "Europe_era5_19 = atlite.Cutout(\n",
    "    path=\"C:\\\\Users\\\\c10si\\\\Cutouts\\\\Europe_era5_19.nc\", module=\"era5\", bounds=bounds, time=slice(\"2019-01-01\", \"2019-12-31\")\n",
    "    )\n",
    "# Preparing the cutout\n",
    "Europe_era5_19.prepare()"
   ]
  },
  {
   "cell_type": "code",
   "execution_count": 14,
   "id": "bebeb3ac",
   "metadata": {},
   "outputs": [],
   "source": [
    "# Europe_era5_19_part2 = atlite.Cutout(\n",
    "#     path=\"C:\\\\Users\\\\c10si\\\\Cutouts\\\\Europe_era5_19_part2.nc\", module=\"era5\", bounds=bounds, time=slice(\"2019-07-01\", \"2019-12-31\")\n",
    "#     )\n",
    "# # Preparing the cutout\n",
    "# Europe_era5_19_part2.prepare() \n"
   ]
  },
  {
   "cell_type": "code",
   "execution_count": 15,
   "id": "c25e7896",
   "metadata": {},
   "outputs": [
    {
     "name": "stderr",
     "output_type": "stream",
     "text": [
      "                                                    \r"
     ]
    },
    {
     "name": "stdout",
     "output_type": "stream",
     "text": [
      "[########################################] | 100% Completed | 38.96 s\n"
     ]
    },
    {
     "data": {
      "text/plain": [
       "<Cutout \"Europe_era5_22\">\n",
       " x = -11.25 ⟷ 35.00, dx = 0.25\n",
       " y = 33.75 ⟷ 72.00, dy = 0.25\n",
       " time = 2022-01-01 ⟷ 2022-12-31, dt = H\n",
       " module = era5\n",
       " prepared_features = ['height', 'wind', 'influx', 'temperature', 'runoff']"
      ]
     },
     "execution_count": 15,
     "metadata": {},
     "output_type": "execute_result"
    }
   ],
   "source": [
    "Europe_era5_22 = atlite.Cutout(\n",
    "    path=\"C:\\\\Users\\\\c10si\\\\Cutouts\\\\Europe_era5_22.nc\", module=\"era5\", bounds=bounds, time=slice(\"2022-01-01\", \"2022-12-31\")\n",
    "    )\n",
    "# Preparing the cutout\n",
    "Europe_era5_22.prepare()"
   ]
  },
  {
   "cell_type": "code",
   "execution_count": 6,
   "id": "0150bdfc",
   "metadata": {},
   "outputs": [
    {
     "name": "stderr",
     "output_type": "stream",
     "text": [
      "                                                     \r"
     ]
    },
    {
     "name": "stdout",
     "output_type": "stream",
     "text": [
      "[###################################     ] | 89% Completed | 17hr 48m\n"
     ]
    },
    {
     "ename": "PermissionError",
     "evalue": "[WinError 32] The process cannot access the file because it is being used by another process: 'C:\\\\Users\\\\c10si\\\\AppData\\\\Local\\\\Temp\\\\tmp8ztmgecq\\\\tmp4o_9mgm7.nc'",
     "output_type": "error",
     "traceback": [
      "\u001b[1;31m---------------------------------------------------------------------------\u001b[0m",
      "\u001b[1;31mMemoryError\u001b[0m                               Traceback (most recent call last)",
      "File \u001b[1;32mc:\\Users\\c10si\\anaconda3\\envs\\Pre-project_environment_2_20230\\lib\\site-packages\\atlite\\data.py:104\u001b[0m, in \u001b[0;36mmaybe_remove_tmpdir.<locals>.wrapper\u001b[1;34m(*args, **kwargs)\u001b[0m\n\u001b[0;32m    103\u001b[0m \u001b[39mtry\u001b[39;00m:\n\u001b[1;32m--> 104\u001b[0m     res \u001b[39m=\u001b[39m func(\u001b[39m*\u001b[39margs, \u001b[39m*\u001b[39m\u001b[39m*\u001b[39mkwargs)\n\u001b[0;32m    105\u001b[0m \u001b[39mfinally\u001b[39;00m:\n",
      "File \u001b[1;32mc:\\Users\\c10si\\anaconda3\\envs\\Pre-project_environment_2_20230\\lib\\site-packages\\atlite\\data.py:203\u001b[0m, in \u001b[0;36mcutout_prepare\u001b[1;34m(cutout, features, tmpdir, overwrite, compression)\u001b[0m\n\u001b[0;32m    202\u001b[0m \u001b[39mwith\u001b[39;00m ProgressBar():\n\u001b[1;32m--> 203\u001b[0m     write_job\u001b[39m.\u001b[39;49mcompute()\n\u001b[0;32m    204\u001b[0m \u001b[39mif\u001b[39;00m cutout\u001b[39m.\u001b[39mpath\u001b[39m.\u001b[39mexists():\n",
      "File \u001b[1;32mc:\\Users\\c10si\\anaconda3\\envs\\Pre-project_environment_2_20230\\lib\\site-packages\\dask\\base.py:314\u001b[0m, in \u001b[0;36mDaskMethodsMixin.compute\u001b[1;34m(self, **kwargs)\u001b[0m\n\u001b[0;32m    291\u001b[0m \u001b[39m\u001b[39m\u001b[39m\"\"\"Compute this dask collection\u001b[39;00m\n\u001b[0;32m    292\u001b[0m \n\u001b[0;32m    293\u001b[0m \u001b[39mThis turns a lazy Dask collection into its in-memory equivalent.\u001b[39;00m\n\u001b[1;32m   (...)\u001b[0m\n\u001b[0;32m    312\u001b[0m \u001b[39mdask.base.compute\u001b[39;00m\n\u001b[0;32m    313\u001b[0m \u001b[39m\"\"\"\u001b[39;00m\n\u001b[1;32m--> 314\u001b[0m (result,) \u001b[39m=\u001b[39m compute(\u001b[39mself\u001b[39m, traverse\u001b[39m=\u001b[39m\u001b[39mFalse\u001b[39;00m, \u001b[39m*\u001b[39m\u001b[39m*\u001b[39mkwargs)\n\u001b[0;32m    315\u001b[0m \u001b[39mreturn\u001b[39;00m result\n",
      "File \u001b[1;32mc:\\Users\\c10si\\anaconda3\\envs\\Pre-project_environment_2_20230\\lib\\site-packages\\dask\\base.py:599\u001b[0m, in \u001b[0;36mcompute\u001b[1;34m(traverse, optimize_graph, scheduler, get, *args, **kwargs)\u001b[0m\n\u001b[0;32m    597\u001b[0m     postcomputes\u001b[39m.\u001b[39mappend(x\u001b[39m.\u001b[39m__dask_postcompute__())\n\u001b[1;32m--> 599\u001b[0m results \u001b[39m=\u001b[39m schedule(dsk, keys, \u001b[39m*\u001b[39m\u001b[39m*\u001b[39mkwargs)\n\u001b[0;32m    600\u001b[0m \u001b[39mreturn\u001b[39;00m repack([f(r, \u001b[39m*\u001b[39ma) \u001b[39mfor\u001b[39;00m r, (f, a) \u001b[39min\u001b[39;00m \u001b[39mzip\u001b[39m(results, postcomputes)])\n",
      "File \u001b[1;32mc:\\Users\\c10si\\anaconda3\\envs\\Pre-project_environment_2_20230\\lib\\site-packages\\dask\\threaded.py:89\u001b[0m, in \u001b[0;36mget\u001b[1;34m(dsk, keys, cache, num_workers, pool, **kwargs)\u001b[0m\n\u001b[0;32m     87\u001b[0m         pool \u001b[39m=\u001b[39m MultiprocessingPoolExecutor(pool)\n\u001b[1;32m---> 89\u001b[0m results \u001b[39m=\u001b[39m get_async(\n\u001b[0;32m     90\u001b[0m     pool\u001b[39m.\u001b[39msubmit,\n\u001b[0;32m     91\u001b[0m     pool\u001b[39m.\u001b[39m_max_workers,\n\u001b[0;32m     92\u001b[0m     dsk,\n\u001b[0;32m     93\u001b[0m     keys,\n\u001b[0;32m     94\u001b[0m     cache\u001b[39m=\u001b[39mcache,\n\u001b[0;32m     95\u001b[0m     get_id\u001b[39m=\u001b[39m_thread_get_id,\n\u001b[0;32m     96\u001b[0m     pack_exception\u001b[39m=\u001b[39mpack_exception,\n\u001b[0;32m     97\u001b[0m     \u001b[39m*\u001b[39m\u001b[39m*\u001b[39mkwargs,\n\u001b[0;32m     98\u001b[0m )\n\u001b[0;32m    100\u001b[0m \u001b[39m# Cleanup pools associated to dead threads\u001b[39;00m\n",
      "File \u001b[1;32mc:\\Users\\c10si\\anaconda3\\envs\\Pre-project_environment_2_20230\\lib\\site-packages\\dask\\local.py:511\u001b[0m, in \u001b[0;36mget_async\u001b[1;34m(submit, num_workers, dsk, result, cache, get_id, rerun_exceptions_locally, pack_exception, raise_exception, callbacks, dumps, loads, chunksize, **kwargs)\u001b[0m\n\u001b[0;32m    510\u001b[0m     \u001b[39melse\u001b[39;00m:\n\u001b[1;32m--> 511\u001b[0m         raise_exception(exc, tb)\n\u001b[0;32m    512\u001b[0m res, worker_id \u001b[39m=\u001b[39m loads(res_info)\n",
      "File \u001b[1;32mc:\\Users\\c10si\\anaconda3\\envs\\Pre-project_environment_2_20230\\lib\\site-packages\\dask\\local.py:319\u001b[0m, in \u001b[0;36mreraise\u001b[1;34m(exc, tb)\u001b[0m\n\u001b[0;32m    318\u001b[0m     \u001b[39mraise\u001b[39;00m exc\u001b[39m.\u001b[39mwith_traceback(tb)\n\u001b[1;32m--> 319\u001b[0m \u001b[39mraise\u001b[39;00m exc\n",
      "File \u001b[1;32mc:\\Users\\c10si\\anaconda3\\envs\\Pre-project_environment_2_20230\\lib\\site-packages\\dask\\local.py:224\u001b[0m, in \u001b[0;36mexecute_task\u001b[1;34m(key, task_info, dumps, loads, get_id, pack_exception)\u001b[0m\n\u001b[0;32m    223\u001b[0m task, data \u001b[39m=\u001b[39m loads(task_info)\n\u001b[1;32m--> 224\u001b[0m result \u001b[39m=\u001b[39m _execute_task(task, data)\n\u001b[0;32m    225\u001b[0m \u001b[39mid\u001b[39m \u001b[39m=\u001b[39m get_id()\n",
      "File \u001b[1;32mc:\\Users\\c10si\\anaconda3\\envs\\Pre-project_environment_2_20230\\lib\\site-packages\\dask\\core.py:119\u001b[0m, in \u001b[0;36m_execute_task\u001b[1;34m(arg, cache, dsk)\u001b[0m\n\u001b[0;32m    116\u001b[0m     \u001b[39m# Note: Don't assign the subtask results to a variable. numpy detects\u001b[39;00m\n\u001b[0;32m    117\u001b[0m     \u001b[39m# temporaries by their reference count and can execute certain\u001b[39;00m\n\u001b[0;32m    118\u001b[0m     \u001b[39m# operations in-place.\u001b[39;00m\n\u001b[1;32m--> 119\u001b[0m     \u001b[39mreturn\u001b[39;00m func(\u001b[39m*\u001b[39;49m(_execute_task(a, cache) \u001b[39mfor\u001b[39;49;00m a \u001b[39min\u001b[39;49;00m args))\n\u001b[0;32m    120\u001b[0m \u001b[39melif\u001b[39;00m \u001b[39mnot\u001b[39;00m ishashable(arg):\n",
      "File \u001b[1;32mc:\\Users\\c10si\\anaconda3\\envs\\Pre-project_environment_2_20230\\lib\\site-packages\\dask\\optimization.py:990\u001b[0m, in \u001b[0;36mSubgraphCallable.__call__\u001b[1;34m(self, *args)\u001b[0m\n\u001b[0;32m    989\u001b[0m     \u001b[39mraise\u001b[39;00m \u001b[39mValueError\u001b[39;00m(\u001b[39m\"\u001b[39m\u001b[39mExpected \u001b[39m\u001b[39m%d\u001b[39;00m\u001b[39m args, got \u001b[39m\u001b[39m%d\u001b[39;00m\u001b[39m\"\u001b[39m \u001b[39m%\u001b[39m (\u001b[39mlen\u001b[39m(\u001b[39mself\u001b[39m\u001b[39m.\u001b[39minkeys), \u001b[39mlen\u001b[39m(args)))\n\u001b[1;32m--> 990\u001b[0m \u001b[39mreturn\u001b[39;00m core\u001b[39m.\u001b[39;49mget(\u001b[39mself\u001b[39;49m\u001b[39m.\u001b[39;49mdsk, \u001b[39mself\u001b[39;49m\u001b[39m.\u001b[39;49moutkey, \u001b[39mdict\u001b[39;49m(\u001b[39mzip\u001b[39;49m(\u001b[39mself\u001b[39;49m\u001b[39m.\u001b[39;49minkeys, args)))\n",
      "File \u001b[1;32mc:\\Users\\c10si\\anaconda3\\envs\\Pre-project_environment_2_20230\\lib\\site-packages\\dask\\core.py:149\u001b[0m, in \u001b[0;36mget\u001b[1;34m(dsk, out, cache)\u001b[0m\n\u001b[0;32m    148\u001b[0m task \u001b[39m=\u001b[39m dsk[key]\n\u001b[1;32m--> 149\u001b[0m result \u001b[39m=\u001b[39m _execute_task(task, cache)\n\u001b[0;32m    150\u001b[0m cache[key] \u001b[39m=\u001b[39m result\n",
      "File \u001b[1;32mc:\\Users\\c10si\\anaconda3\\envs\\Pre-project_environment_2_20230\\lib\\site-packages\\dask\\core.py:119\u001b[0m, in \u001b[0;36m_execute_task\u001b[1;34m(arg, cache, dsk)\u001b[0m\n\u001b[0;32m    116\u001b[0m     \u001b[39m# Note: Don't assign the subtask results to a variable. numpy detects\u001b[39;00m\n\u001b[0;32m    117\u001b[0m     \u001b[39m# temporaries by their reference count and can execute certain\u001b[39;00m\n\u001b[0;32m    118\u001b[0m     \u001b[39m# operations in-place.\u001b[39;00m\n\u001b[1;32m--> 119\u001b[0m     \u001b[39mreturn\u001b[39;00m func(\u001b[39m*\u001b[39;49m(_execute_task(a, cache) \u001b[39mfor\u001b[39;49;00m a \u001b[39min\u001b[39;49;00m args))\n\u001b[0;32m    120\u001b[0m \u001b[39melif\u001b[39;00m \u001b[39mnot\u001b[39;00m ishashable(arg):\n",
      "\u001b[1;31mMemoryError\u001b[0m: Unable to allocate 10.9 MiB for an array with shape (100, 154, 186) and data type float32",
      "\nDuring handling of the above exception, another exception occurred:\n",
      "\u001b[1;31mPermissionError\u001b[0m                           Traceback (most recent call last)",
      "\u001b[1;32mc:\\Users\\c10si\\OneDrive - Aarhus universitet\\Master Project - personal folder\\Cutout creation tool.ipynb Cell 8\u001b[0m line \u001b[0;36m5\n\u001b[0;32m      <a href='vscode-notebook-cell:/c%3A/Users/c10si/OneDrive%20-%20Aarhus%20universitet/Master%20Project%20-%20personal%20folder/Cutout%20creation%20tool.ipynb#X10sZmlsZQ%3D%3D?line=0'>1</a>\u001b[0m Europe_era5_15_17 \u001b[39m=\u001b[39m atlite\u001b[39m.\u001b[39mCutout(\n\u001b[0;32m      <a href='vscode-notebook-cell:/c%3A/Users/c10si/OneDrive%20-%20Aarhus%20universitet/Master%20Project%20-%20personal%20folder/Cutout%20creation%20tool.ipynb#X10sZmlsZQ%3D%3D?line=1'>2</a>\u001b[0m     path\u001b[39m=\u001b[39m\u001b[39m\"\u001b[39m\u001b[39mC:\u001b[39m\u001b[39m\\\\\u001b[39;00m\u001b[39mUsers\u001b[39m\u001b[39m\\\\\u001b[39;00m\u001b[39mc10si\u001b[39m\u001b[39m\\\\\u001b[39;00m\u001b[39mCutouts\u001b[39m\u001b[39m\\\\\u001b[39;00m\u001b[39mEurope_era5_15_17.nc\u001b[39m\u001b[39m\"\u001b[39m, module\u001b[39m=\u001b[39m\u001b[39m\"\u001b[39m\u001b[39mera5\u001b[39m\u001b[39m\"\u001b[39m, bounds\u001b[39m=\u001b[39mbounds, time\u001b[39m=\u001b[39m\u001b[39mslice\u001b[39m(\u001b[39m\"\u001b[39m\u001b[39m2015-01-01\u001b[39m\u001b[39m\"\u001b[39m, \u001b[39m\"\u001b[39m\u001b[39m2017-12-31\u001b[39m\u001b[39m\"\u001b[39m)\n\u001b[0;32m      <a href='vscode-notebook-cell:/c%3A/Users/c10si/OneDrive%20-%20Aarhus%20universitet/Master%20Project%20-%20personal%20folder/Cutout%20creation%20tool.ipynb#X10sZmlsZQ%3D%3D?line=2'>3</a>\u001b[0m     )\n\u001b[0;32m      <a href='vscode-notebook-cell:/c%3A/Users/c10si/OneDrive%20-%20Aarhus%20universitet/Master%20Project%20-%20personal%20folder/Cutout%20creation%20tool.ipynb#X10sZmlsZQ%3D%3D?line=3'>4</a>\u001b[0m \u001b[39m# Preparing the cutout\u001b[39;00m\n\u001b[1;32m----> <a href='vscode-notebook-cell:/c%3A/Users/c10si/OneDrive%20-%20Aarhus%20universitet/Master%20Project%20-%20personal%20folder/Cutout%20creation%20tool.ipynb#X10sZmlsZQ%3D%3D?line=4'>5</a>\u001b[0m Europe_era5_15_17\u001b[39m.\u001b[39;49mprepare()\n",
      "File \u001b[1;32mc:\\Users\\c10si\\anaconda3\\envs\\Pre-project_environment_2_20230\\lib\\site-packages\\atlite\\data.py:106\u001b[0m, in \u001b[0;36mmaybe_remove_tmpdir.<locals>.wrapper\u001b[1;34m(*args, **kwargs)\u001b[0m\n\u001b[0;32m    104\u001b[0m         res \u001b[39m=\u001b[39m func(\u001b[39m*\u001b[39margs, \u001b[39m*\u001b[39m\u001b[39m*\u001b[39mkwargs)\n\u001b[0;32m    105\u001b[0m     \u001b[39mfinally\u001b[39;00m:\n\u001b[1;32m--> 106\u001b[0m         rmtree(kwargs[\u001b[39m\"\u001b[39;49m\u001b[39mtmpdir\u001b[39;49m\u001b[39m\"\u001b[39;49m])\n\u001b[0;32m    107\u001b[0m \u001b[39mreturn\u001b[39;00m res\n",
      "File \u001b[1;32mc:\\Users\\c10si\\anaconda3\\envs\\Pre-project_environment_2_20230\\lib\\shutil.py:759\u001b[0m, in \u001b[0;36mrmtree\u001b[1;34m(path, ignore_errors, onerror)\u001b[0m\n\u001b[0;32m    757\u001b[0m     \u001b[39m# can't continue even if onerror hook returns\u001b[39;00m\n\u001b[0;32m    758\u001b[0m     \u001b[39mreturn\u001b[39;00m\n\u001b[1;32m--> 759\u001b[0m \u001b[39mreturn\u001b[39;00m _rmtree_unsafe(path, onerror)\n",
      "File \u001b[1;32mc:\\Users\\c10si\\anaconda3\\envs\\Pre-project_environment_2_20230\\lib\\shutil.py:629\u001b[0m, in \u001b[0;36m_rmtree_unsafe\u001b[1;34m(path, onerror)\u001b[0m\n\u001b[0;32m    627\u001b[0m             os\u001b[39m.\u001b[39munlink(fullname)\n\u001b[0;32m    628\u001b[0m         \u001b[39mexcept\u001b[39;00m \u001b[39mOSError\u001b[39;00m:\n\u001b[1;32m--> 629\u001b[0m             onerror(os\u001b[39m.\u001b[39;49munlink, fullname, sys\u001b[39m.\u001b[39;49mexc_info())\n\u001b[0;32m    630\u001b[0m \u001b[39mtry\u001b[39;00m:\n\u001b[0;32m    631\u001b[0m     os\u001b[39m.\u001b[39mrmdir(path)\n",
      "File \u001b[1;32mc:\\Users\\c10si\\anaconda3\\envs\\Pre-project_environment_2_20230\\lib\\shutil.py:627\u001b[0m, in \u001b[0;36m_rmtree_unsafe\u001b[1;34m(path, onerror)\u001b[0m\n\u001b[0;32m    625\u001b[0m \u001b[39melse\u001b[39;00m:\n\u001b[0;32m    626\u001b[0m     \u001b[39mtry\u001b[39;00m:\n\u001b[1;32m--> 627\u001b[0m         os\u001b[39m.\u001b[39;49munlink(fullname)\n\u001b[0;32m    628\u001b[0m     \u001b[39mexcept\u001b[39;00m \u001b[39mOSError\u001b[39;00m:\n\u001b[0;32m    629\u001b[0m         onerror(os\u001b[39m.\u001b[39munlink, fullname, sys\u001b[39m.\u001b[39mexc_info())\n",
      "\u001b[1;31mPermissionError\u001b[0m: [WinError 32] The process cannot access the file because it is being used by another process: 'C:\\\\Users\\\\c10si\\\\AppData\\\\Local\\\\Temp\\\\tmp8ztmgecq\\\\tmp4o_9mgm7.nc'"
     ]
    }
   ],
   "source": [
    "Europe_era5_15_17 = atlite.Cutout(\n",
    "    path=\"C:\\\\Users\\\\c10si\\\\Cutouts\\\\Europe_era5_15_17.nc\", module=\"era5\", bounds=bounds, time=slice(\"2015-01-01\", \"2017-12-31\")\n",
    "    )\n",
    "# Preparing the cutout\n",
    "Europe_era5_15_17.prepare()"
   ]
  },
  {
   "cell_type": "code",
   "execution_count": 11,
   "id": "fe3b4911",
   "metadata": {},
   "outputs": [
    {
     "name": "stderr",
     "output_type": "stream",
     "text": [
      " 73%|███████▎  | 347M/479M [02:14<00:37, 3.68MB/s]"
     ]
    }
   ],
   "source": [
    "Europe_era5_15_17.prepare()"
   ]
  }
 ],
 "metadata": {
  "kernelspec": {
   "display_name": "Python 3 (ipykernel)",
   "language": "python",
   "name": "python3"
  },
  "language_info": {
   "codemirror_mode": {
    "name": "ipython",
    "version": 3
   },
   "file_extension": ".py",
   "mimetype": "text/x-python",
   "name": "python",
   "nbconvert_exporter": "python",
   "pygments_lexer": "ipython3",
   "version": "3.9.16"
  }
 },
 "nbformat": 4,
 "nbformat_minor": 5
}
