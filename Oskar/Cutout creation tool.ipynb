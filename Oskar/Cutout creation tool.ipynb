{
 "cells": [
  {
   "cell_type": "markdown",
   "id": "87ef2596",
   "metadata": {},
   "source": [
    "# Creation of ERA5 cutouts"
   ]
  },
  {
   "cell_type": "code",
   "execution_count": 1,
   "id": "7543753d",
   "metadata": {},
   "outputs": [],
   "source": [
    "# Importing packages\n",
    "import atlite\n",
    "import xarray as xr\n",
    "import pandas as pd\n",
    "import scipy.sparse as sp\n",
    "import math  \n",
    "import numpy as np\n",
    "from matplotlib import dates\n",
    "import datetime\n",
    "import pgeocode\n",
    "from collections import OrderedDict\n",
    "import matplotlib.pyplot as plt\n",
    "from matplotlib.colors import LinearSegmentedColormap\n",
    "from matplotlib.gridspec import GridSpec\n",
    "import seaborn as sns\n",
    "%matplotlib inline\n",
    "import seaborn as sns\n",
    "#sns.set_style(\"whitegrid\")\n",
    "import requests\n",
    "import os\n",
    "import zipfile\n",
    "\n",
    "import atlite\n",
    "import logging\n",
    "logging.basicConfig(level=logging.INFO)\n",
    "\n",
    "import cartopy.crs as ccrs\n",
    "from cartopy.crs import PlateCarree as plate\n",
    "import cartopy.io.shapereader as shpreader\n",
    "import geopandas as gpd\n",
    "# from matplotlib.gridspec import GridSpec\n",
    "from atlite.gis import shape_availability, ExclusionContainer\n",
    "# from rasterio.plot import show\n",
    "# import glob\n",
    "from countrygroups import EUROPEAN_UNION"
   ]
  },
  {
   "cell_type": "code",
   "execution_count": 2,
   "id": "ed0b4588",
   "metadata": {},
   "outputs": [],
   "source": [
    "# Adding non-EU countries to the list of countries\n",
    "\n",
    "#others = ([\"Switzerland\",\"Czech Republic\", \"Ukraine\",\"Moldova\", \"Serbia\",\"Albania\", \"United Kingdom\", \n",
    "#           \"Montenegro\",\"Bosnia and Herzegovina\",\"North Macedonia\",\"Kosovo\",\"Norway\"])\n",
    "others = ([\"Switzerland\",\"Czech Republic\", \"Serbia\",\"Albania\", \"United Kingdom\", \n",
    "           \"Montenegro\",\"Bosnia and Herzegovina\",\"North Macedonia\",\"Kosovo\",\"Norway\"])\n",
    "europe_list = EUROPEAN_UNION.names + others\n",
    "europe_list.remove(\"Czechia\")\n",
    "europe_list.sort()"
   ]
  },
  {
   "cell_type": "code",
   "execution_count": 5,
   "id": "b7846f10",
   "metadata": {},
   "outputs": [
    {
     "name": "stderr",
     "output_type": "stream",
     "text": [
      "c:\\Users\\c10si\\anaconda3\\envs\\Pre-project_environment_2_20230\\lib\\site-packages\\pyproj\\crs\\crs.py:141: FutureWarning: '+init=<authority>:<code>' syntax is deprecated. '<authority>:<code>' is the preferred initialization method. When making the change, be mindful of axis order changes: https://pyproj4.github.io/pyproj/stable/gotchas.html#axis-order-changes-in-proj-6\n",
      "  in_crs_string = _prepare_from_proj_string(in_crs_string)\n"
     ]
    }
   ],
   "source": [
    "# Defining shape of European countries\n",
    "\n",
    "shpfilename = shpreader.natural_earth(\n",
    "    resolution=\"10m\", category=\"cultural\", name=\"admin_0_countries\"\n",
    ")\n",
    "reader = shpreader.Reader(shpfilename)\n",
    "Europe = gpd.GeoSeries(\n",
    "    {r.attributes[\"NAME_EN\"]: r.geometry for r in reader.records()},\n",
    "    crs={\"init\": \"epsg:4326\"},\n",
    ").reindex(europe_list)\n",
    "\n",
    "# Removing extra territories (islands in the Atlantic, etc.)\n",
    "mask = (-11, 30, 50, 74)\n",
    "Europe = Europe.clip(mask)\n",
    "# Europe.plot(figsize=(8,8),aspect='equal').set_frame_on(False)\n",
    "# plt.grid()\n",
    "# plt.title('Region analyzed by cutout');\n",
    "\n",
    "# Creating boundary for cutouts\n",
    "bounds = Europe.unary_union.buffer(1).bounds"
   ]
  },
  {
   "cell_type": "code",
   "execution_count": 13,
   "id": "93f9cf5d",
   "metadata": {},
   "outputs": [
    {
     "name": "stderr",
     "output_type": "stream",
     "text": [
      "                                                    \r"
     ]
    },
    {
     "name": "stdout",
     "output_type": "stream",
     "text": [
      "[########################################] | 100% Completed | 51.42 s\n"
     ]
    },
    {
     "data": {
      "text/plain": [
       "<Cutout \"Europe_era5_19\">\n",
       " x = -11.25 ⟷ 35.00, dx = 0.25\n",
       " y = 33.75 ⟷ 72.00, dy = 0.25\n",
       " time = 2019-01-01 ⟷ 2019-12-31, dt = H\n",
       " module = era5\n",
       " prepared_features = ['height', 'wind', 'influx', 'temperature', 'runoff']"
      ]
     },
     "execution_count": 13,
     "metadata": {},
     "output_type": "execute_result"
    }
   ],
   "source": [
    "Europe_era5_19 = atlite.Cutout(\n",
    "    path=\"C:\\\\Users\\\\c10si\\\\Cutouts\\\\Europe_era5_19.nc\", module=\"era5\", bounds=bounds, time=slice(\"2019-01-01\", \"2019-12-31\")\n",
    "    )\n",
    "# Preparing the cutout\n",
    "Europe_era5_19.prepare()"
   ]
  },
  {
   "cell_type": "code",
   "execution_count": 15,
   "id": "c25e7896",
   "metadata": {},
   "outputs": [
    {
     "name": "stderr",
     "output_type": "stream",
     "text": [
      "                                                    \r"
     ]
    },
    {
     "name": "stdout",
     "output_type": "stream",
     "text": [
      "[########################################] | 100% Completed | 38.96 s\n"
     ]
    },
    {
     "data": {
      "text/plain": [
       "<Cutout \"Europe_era5_22\">\n",
       " x = -11.25 ⟷ 35.00, dx = 0.25\n",
       " y = 33.75 ⟷ 72.00, dy = 0.25\n",
       " time = 2022-01-01 ⟷ 2022-12-31, dt = H\n",
       " module = era5\n",
       " prepared_features = ['height', 'wind', 'influx', 'temperature', 'runoff']"
      ]
     },
     "execution_count": 15,
     "metadata": {},
     "output_type": "execute_result"
    }
   ],
   "source": [
    "Europe_era5_22 = atlite.Cutout(\n",
    "    path=\"C:\\\\Users\\\\c10si\\\\Cutouts\\\\Europe_era5_22.nc\", module=\"era5\", bounds=bounds, time=slice(\"2022-01-01\", \"2022-12-31\")\n",
    "    )\n",
    "# Preparing the cutout\n",
    "Europe_era5_22.prepare()"
   ]
  }
 ],
 "metadata": {
  "kernelspec": {
   "display_name": "Python 3 (ipykernel)",
   "language": "python",
   "name": "python3"
  },
  "language_info": {
   "codemirror_mode": {
    "name": "ipython",
    "version": 3
   },
   "file_extension": ".py",
   "mimetype": "text/x-python",
   "name": "python",
   "nbconvert_exporter": "python",
   "pygments_lexer": "ipython3",
   "version": "3.9.16"
  }
 },
 "nbformat": 4,
 "nbformat_minor": 5
}
